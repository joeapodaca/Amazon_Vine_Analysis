{
  "nbformat": 4,
  "nbformat_minor": 0,
  "metadata": {
    "colab": {
      "name": "Vine_Review_Analysis.ipynb",
      "provenance": [],
      "collapsed_sections": []
    },
    "kernelspec": {
      "name": "python3",
      "display_name": "Python 3"
    },
    "language_info": {
      "name": "python"
    }
  },
  "cells": [
    {
      "cell_type": "code",
      "execution_count": 1,
      "metadata": {
        "colab": {
          "base_uri": "https://localhost:8080/"
        },
        "id": "XFZt-Kdg2EjA",
        "outputId": "a7dd74f2-5d8b-4be4-8e01-d281a64225ec"
      },
      "outputs": [
        {
          "output_type": "stream",
          "name": "stdout",
          "text": [
            "\r0% [Working]\r            \rGet:1 https://developer.download.nvidia.com/compute/cuda/repos/ubuntu1804/x86_64  InRelease [1,581 B]\n",
            "\r0% [Waiting for headers] [Connecting to security.ubuntu.com (185.125.190.36)] [\r0% [Waiting for headers] [Connecting to security.ubuntu.com (185.125.190.36)] [\r                                                                               \rGet:2 https://cloud.r-project.org/bin/linux/ubuntu bionic-cran40/ InRelease [3,626 B]\n",
            "\r0% [Waiting for headers] [Connecting to security.ubuntu.com (185.125.190.36)] [\r                                                                               \rHit:3 http://archive.ubuntu.com/ubuntu bionic InRelease\n",
            "Get:4 http://archive.ubuntu.com/ubuntu bionic-updates InRelease [88.7 kB]\n",
            "Ign:5 https://developer.download.nvidia.com/compute/machine-learning/repos/ubuntu1804/x86_64  InRelease\n",
            "Hit:6 https://developer.download.nvidia.com/compute/machine-learning/repos/ubuntu1804/x86_64  Release\n",
            "Get:7 http://ppa.launchpad.net/c2d4u.team/c2d4u4.0+/ubuntu bionic InRelease [15.9 kB]\n",
            "Get:8 http://security.ubuntu.com/ubuntu bionic-security InRelease [88.7 kB]\n",
            "Get:9 http://archive.ubuntu.com/ubuntu bionic-backports InRelease [74.6 kB]\n",
            "Get:10 https://developer.download.nvidia.com/compute/cuda/repos/ubuntu1804/x86_64  Packages [817 kB]\n",
            "Hit:11 http://ppa.launchpad.net/cran/libgit2/ubuntu bionic InRelease\n",
            "Hit:12 http://ppa.launchpad.net/deadsnakes/ppa/ubuntu bionic InRelease\n",
            "Hit:13 http://ppa.launchpad.net/graphics-drivers/ppa/ubuntu bionic InRelease\n",
            "Get:14 https://cloud.r-project.org/bin/linux/ubuntu bionic-cran40/ Packages [85.6 kB]\n",
            "Get:16 http://archive.ubuntu.com/ubuntu bionic-updates/universe amd64 Packages [2,304 kB]\n",
            "Get:17 http://archive.ubuntu.com/ubuntu bionic-updates/restricted amd64 Packages [1,105 kB]\n",
            "Get:18 http://archive.ubuntu.com/ubuntu bionic-updates/main amd64 Packages [3,333 kB]\n",
            "Get:19 http://ppa.launchpad.net/c2d4u.team/c2d4u4.0+/ubuntu bionic/main Sources [2,075 kB]\n",
            "Get:20 http://security.ubuntu.com/ubuntu bionic-security/universe amd64 Packages [1,527 kB]\n",
            "Get:21 http://security.ubuntu.com/ubuntu bionic-security/restricted amd64 Packages [1,063 kB]\n",
            "Get:22 http://ppa.launchpad.net/c2d4u.team/c2d4u4.0+/ubuntu bionic/main amd64 Packages [1,063 kB]\n",
            "Get:23 http://security.ubuntu.com/ubuntu bionic-security/main amd64 Packages [2,901 kB]\n",
            "Fetched 16.5 MB in 6s (2,664 kB/s)\n",
            "Reading package lists... Done\n"
          ]
        }
      ],
      "source": [
        "import os\n",
        "# Find the latest version of spark 3.0 from http://www.apache.org/dist/spark/ and enter as the spark version\n",
        "# For example:\n",
        "# spark_version = 'spark-3.0.3'\n",
        "spark_version = 'spark-3.0.3'\n",
        "os.environ['SPARK_VERSION']=spark_version\n",
        "\n",
        "# Install Spark and Java\n",
        "!apt-get update\n",
        "!apt-get install openjdk-11-jdk-headless -qq > /dev/null\n",
        "!wget -q http://www.apache.org/dist/spark/$SPARK_VERSION/$SPARK_VERSION-bin-hadoop2.7.tgz\n",
        "!tar xf $SPARK_VERSION-bin-hadoop2.7.tgz\n",
        "!pip install -q findspark\n",
        "\n",
        "# Set Environment Variables\n",
        "import os\n",
        "os.environ[\"JAVA_HOME\"] = \"/usr/lib/jvm/java-11-openjdk-amd64\"\n",
        "os.environ[\"SPARK_HOME\"] = f\"/content/{spark_version}-bin-hadoop2.7\"\n",
        "\n",
        "# Start a SparkSession\n",
        "import findspark\n",
        "findspark.init()"
      ]
    },
    {
      "cell_type": "code",
      "source": [
        "from pyspark.sql import SparkSession\n",
        "spark = SparkSession.builder.appName(\"M16-Amazon-Challenge\").config(\"spark.driver.extraClassPath\",\"/content/postgresql-42.2.16.jar\").getOrCreate()"
      ],
      "metadata": {
        "id": "71plP-6H2hLh"
      },
      "execution_count": 2,
      "outputs": []
    },
    {
      "cell_type": "code",
      "source": [
        "# import reviews\n",
        "from pyspark import SparkFiles\n",
        "url = \"https://s3.amazonaws.com/amazon-reviews-pds/tsv/amazon_reviews_us_Major_Appliances_v1_00.tsv.gz\"\n",
        "spark.sparkContext.addFile(url)\n",
        "df = spark.read.option(\"encoding\", \"UTF-8\").csv(SparkFiles.get(\"\"), sep=\"\\t\", header=True, inferSchema=True)\n",
        "df.show()"
      ],
      "metadata": {
        "colab": {
          "base_uri": "https://localhost:8080/"
        },
        "id": "wHlvEnQE2h8r",
        "outputId": "79714a7d-8007-479e-bea0-ec57065fe11d"
      },
      "execution_count": 3,
      "outputs": [
        {
          "output_type": "stream",
          "name": "stdout",
          "text": [
            "+-----------+-----------+--------------+----------+--------------+--------------------+----------------+-----------+-------------+-----------+----+-----------------+--------------------+--------------------+-----------+\n",
            "|marketplace|customer_id|     review_id|product_id|product_parent|       product_title|product_category|star_rating|helpful_votes|total_votes|vine|verified_purchase|     review_headline|         review_body|review_date|\n",
            "+-----------+-----------+--------------+----------+--------------+--------------------+----------------+-----------+-------------+-----------+----+-----------------+--------------------+--------------------+-----------+\n",
            "|         US|   16199106|R203HPW78Z7N4K|B0067WNSZY|     633038551|FGGF3032MW Galler...|Major Appliances|          5|            0|          0|   N|                Y|If you need a new...|What a great stov...| 2015-08-31|\n",
            "|         US|   16374060|R2EAIGVLEALSP3|B002QSXK60|     811766671|Best Hand Clothes...|Major Appliances|          5|            1|          1|   N|                Y|          Five Stars|        worked great| 2015-08-31|\n",
            "|         US|   15322085|R1K1CD73HHLILA|B00EC452R6|     345562728|Supco SET184 Ther...|Major Appliances|          5|            0|          0|   N|                Y|       Fast Shipping|Part exactly what...| 2015-08-31|\n",
            "|         US|   32004835|R2KZBMOFRMYOPO|B00MVVIF2G|     563052763|Midea WHS-160RB1 ...|Major Appliances|          5|            1|          1|   N|                Y|          Five Stars|Love my refrigera...| 2015-08-31|\n",
            "|         US|   25414497| R6BIZOZY6UD01|B00IY7BNUW|     874236579|Avalon Bay Portab...|Major Appliances|          5|            0|          0|   N|                Y|          Five Stars|No more running t...| 2015-08-31|\n",
            "|         US|   36311751|R1MCXZFNF8E7Y0|B0033X29CI|     294467812|Danby  Freestandi...|Major Appliances|          1|            0|          0|   N|                Y|       Piece of Junk|It would not cool...| 2015-08-31|\n",
            "|         US|   30920961|R3EMB3E3ODR6BW|B005R597HA|     183784715|Avanti 110-Volt A...|Major Appliances|          5|            2|          2|   N|                Y|Works awesome for...|Works awesome for...| 2015-08-31|\n",
            "|         US|   52491265| RJTONVTTOPJ5S|B00MO6V8Y0|     960251524|      Danby products|Major Appliances|          5|            0|          0|   N|                Y|          Five Stars|exactly what I wa...| 2015-08-31|\n",
            "|         US|   48166169|R21U5QZ2CQECUM|B00HT39QDI|     992475314|3 Pack Tier1 MSWF...|Major Appliances|          4|            0|          0|   N|                Y|          Four Stars|       AS advertised| 2015-08-31|\n",
            "|         US|   50394924| RL2BBC51H89DH|B00LESFZ52|       1641606|True TSSU-60-16 6...|Major Appliances|          4|            0|          0|   N|                Y|but has poor insu...|It works as adver...| 2015-08-31|\n",
            "|         US|    3915552|R3RNEPHF3WIRSZ|B0149IJVPI|     838108342|Magic: the Gather...|Major Appliances|          2|            0|          0|   N|                N|           Two Stars|it's not worth 22...| 2015-08-31|\n",
            "|         US|   17068589|R38DNT9KML2PF3|B002HT0958|     387104338|Mini Portable Cou...|Major Appliances|          5|            0|          0|   N|                Y| Love it for camping|Wonderful! It spi...| 2015-08-31|\n",
            "|         US|   52081068|R2ECMBJM8KNNC8|B006WOBNX6|     180688127|1 X Dishwasher Ra...|Major Appliances|          4|            0|          0|   N|                Y|          Four Stars|Did the job but d...| 2015-08-31|\n",
            "|         US|   13783713|R2F3F92PRN9T7S|B00NLPMOU0|     570132358|Watson 1.5 ft AC ...|Major Appliances|          5|            0|          0|   N|                Y|Very well satisfied.|Arrived on time a...| 2015-08-31|\n",
            "|         US|   14555366|R35XNT88XVEMK6|B00KJ07SEM|     313983847|GE MWF SmartWater...|Major Appliances|          5|            1|          1|   N|                Y|          Five Stars|               Super| 2015-08-31|\n",
            "|         US|   48417244| RZRXLHQS71FUP|B001AT2ALM|     364403440|Koldfront Ultra C...|Major Appliances|          4|            1|          1|   N|                Y|          Four Stars|Looking forward t...| 2015-08-31|\n",
            "|         US|   19010760|R3J9T4MZRAURV5|B00JG8B42K|     672722354|OnePurify RFC0800...|Major Appliances|          1|            0|          0|   N|                Y|     dont waste your|cheap knock-off. ...| 2015-08-31|\n",
            "|         US|   43532555|R3CLDHHI0ZSQLO|B00FRJ5EWS|     137548022|2016 Life Water I...|Major Appliances|          5|            1|          2|   N|                N|       Great Product|My wife is lookin...| 2015-08-31|\n",
            "|         US|   21879631| RY52KZABZK8QF|B0052G14E8|     423421857|Danby 0.7 cu.ft. ...|Major Appliances|          1|            0|          0|   N|                Y|Do not recommend ...|3 of the buttons ...| 2015-08-31|\n",
            "|         US|     810098|R25RXV5X29M3UC|B00LOVVE9A|     386722389|SPT UF-304SS Ener...|Major Appliances|          4|            0|          1|   N|                Y|          Four Stars|     So far so good.| 2015-08-31|\n",
            "+-----------+-----------+--------------+----------+--------------+--------------------+----------------+-----------+-------------+-----------+----+-----------------+--------------------+--------------------+-----------+\n",
            "only showing top 20 rows\n",
            "\n"
          ]
        }
      ]
    },
    {
      "cell_type": "code",
      "source": [
        "# Filter DataFrame total_votes count is equal to or greater than 20\n",
        "total_votes_df = df.filter(df.total_votes >= 20)\n",
        "total_votes_df.show()"
      ],
      "metadata": {
        "colab": {
          "base_uri": "https://localhost:8080/"
        },
        "id": "aDq_XM5I2nWF",
        "outputId": "aa2142f8-a07d-4135-8e08-f654e1de695c"
      },
      "execution_count": 4,
      "outputs": [
        {
          "output_type": "stream",
          "name": "stdout",
          "text": [
            "+-----------+-----------+--------------+----------+--------------+--------------------+----------------+-----------+-------------+-----------+----+-----------------+--------------------+--------------------+-----------+\n",
            "|marketplace|customer_id|     review_id|product_id|product_parent|       product_title|product_category|star_rating|helpful_votes|total_votes|vine|verified_purchase|     review_headline|         review_body|review_date|\n",
            "+-----------+-----------+--------------+----------+--------------+--------------------+----------------+-----------+-------------+-----------+----+-----------------+--------------------+--------------------+-----------+\n",
            "|         US|   13446431|R1QXNQBTH7LIUB|B00V03PK74|     159528888|Kalamera freestan...|Major Appliances|          3|            9|         22|   N|                Y|They claim that i...|They claim that i...| 2015-08-31|\n",
            "|         US|   36792525|R3BC75VKJK6LNV|B00RL014P2|       6980707|The Laundry Alter...|Major Appliances|          4|           83|         89|   N|                Y|Warning! Long Rev...|Where do I begin?...| 2015-08-31|\n",
            "|         US|   13254956| R5XKK92G5N9FU|B00EM2JPLW|     824392206|Samsung NE58F9500...|Major Appliances|          1|           18|         22|   N|                N|FIRE HAZARD - AVO...|FIRE HAZARD - AVO...| 2015-08-30|\n",
            "|         US|   50791387| RYMOWYW38WKOB|B00UI18U08|     846535709|LG LMXC23746S 23 ...|Major Appliances|          5|           35|         35|   N|                N|pleasant surprise...|Bought this fridg...| 2015-08-30|\n",
            "|         US|   48688660| RYHZAVESD0T37|B00IY7B5CS|     874236579|Avalon Bay Portab...|Major Appliances|          1|           39|         45|   N|                Y|             Wet ice|I really wanted t...| 2015-08-29|\n",
            "|         US|   47079055|R19Y5VBOF3BQOG|B010CE497I|     607780698|Haier HC27SW20RV ...|Major Appliances|          1|           26|         35|   N|                Y|        Product swap|It just arrived a...| 2015-08-29|\n",
            "|         US|   42769135| R8V9F3139Z1WZ|B00OI05EKE|     381662962|GE GSE25HMHES 36\"...|Major Appliances|          1|           30|         34|   N|                N|SHAME ON GE, low ...|STAY AWAY from GE...| 2015-08-29|\n",
            "|         US|   51579138|R3RNY5OLY451GS|B00LIAP2ZY|     545041103|LG WM3997HWA Vent...|Major Appliances|          1|           25|         30|   N|                Y|Drying did not work.|I really wanted t...| 2015-08-28|\n",
            "|         US|   13663272|R16LPVYSJOAH1T|B00MHY0B9C|     144125671|DMAFRIGFGID2466QF...|Major Appliances|          1|           20|         20|   N|                N|Broke in the firs...|This appliance is...| 2015-08-27|\n",
            "|         US|   25345755|R2NLL7ISMM5QYQ|B00E8KC36M|     754165796|Kitchen Bath Coll...|Major Appliances|          4|           89|         94|   N|                Y|  We love it, but...|When it arrived, ...| 2015-08-27|\n",
            "|         US|   52082261|R3FAFI6Q0YL37W|B00KJ07SEM|     313983847|GE MWF SmartWater...|Major Appliances|          1|           30|         35|   N|                Y|BEWARE! Gross yel...|Watch out! I just...| 2015-08-26|\n",
            "|         US|   12120105|R1A4JVOP7N5Q1K|B00XYVEA2Q|     926385357|ARKSEN Portable M...|Major Appliances|          5|           28|         30|   N|                Y|I FELT LIKE A SUC...|I read the negati...| 2015-08-25|\n",
            "|         US|   19227587|R30E25MXKEP9BP|B00D1SZNO6|     315917522|Avanti RA7316PST ...|Major Appliances|          4|           36|         37|   N|                Y|Avanti is good pa...|Arrived really we...| 2015-08-23|\n",
            "|         US|   40023988|R2FMLYX388LR2Y|B0057WCGJ4|     745613395|Bosch 800 Series ...|Major Appliances|          5|           28|         33|   N|                Y|Bosch 800 Series ...|Just got this dis...| 2015-08-22|\n",
            "|         US|   11324103| R1EGFDXPYGROC|B00J8A9S4C|     772573004|Bosch NGM8655UC 8...|Major Appliances|          5|           28|         32|   N|                Y|       Great Cooktop|We bought this to...| 2015-08-22|\n",
            "|         US|   10295660|R2DCZYJZRF0V2O|B00OLUTYKC|     668408812|Wine Enthusiast 2...|Major Appliances|          5|           26|         28|   N|                Y|Handsome and Very...|Handsome, super q...| 2015-08-22|\n",
            "|         US|   36744226|R3QNOR0K43XLWB|B002UYSHMM|     429051224|Haier HLP21N Puls...|Major Appliances|          5|           41|         41|   N|                N|Great Washer for ...|This is great, qu...| 2015-08-21|\n",
            "|         US|   48114567| RPNUNJJZLD11P|B00GXH8QDW|     114997886|LG H/E Ultra Larg...|Major Appliances|          1|           26|         27|   N|                N|It is too soon to...|I purchased this ...| 2015-08-21|\n",
            "|         US|   19603551|R39VRWWZWAHBPH|B010CE497I|     607780698|Haier HC27SW20RV ...|Major Appliances|          1|           15|         21|   N|                Y|            One Star|Very disappointed...| 2015-08-21|\n",
            "|         US|     877297| RU7XNN9EC8V8X|B00N1XAVDY|     845333501|NewAir CC-100 250...|Major Appliances|          1|           31|         36|   N|                Y|Really bad produc...|Simply the worst ...| 2015-08-21|\n",
            "+-----------+-----------+--------------+----------+--------------+--------------------+----------------+-----------+-------------+-----------+----+-----------------+--------------------+--------------------+-----------+\n",
            "only showing top 20 rows\n",
            "\n"
          ]
        }
      ]
    },
    {
      "cell_type": "code",
      "source": [
        "# Filter DataFrame helpful_votes is equal to or greater than 50%\n",
        "helpful_votes_df = total_votes_df.filter((total_votes_df.helpful_votes / total_votes_df.total_votes) >= 0.5)\n",
        "helpful_votes_df.show()"
      ],
      "metadata": {
        "colab": {
          "base_uri": "https://localhost:8080/"
        },
        "id": "LrjynWJN22ux",
        "outputId": "b466d239-e537-459f-facc-a9f0c4158296"
      },
      "execution_count": 5,
      "outputs": [
        {
          "output_type": "stream",
          "name": "stdout",
          "text": [
            "+-----------+-----------+--------------+----------+--------------+--------------------+----------------+-----------+-------------+-----------+----+-----------------+--------------------+--------------------+-----------+\n",
            "|marketplace|customer_id|     review_id|product_id|product_parent|       product_title|product_category|star_rating|helpful_votes|total_votes|vine|verified_purchase|     review_headline|         review_body|review_date|\n",
            "+-----------+-----------+--------------+----------+--------------+--------------------+----------------+-----------+-------------+-----------+----+-----------------+--------------------+--------------------+-----------+\n",
            "|         US|   36792525|R3BC75VKJK6LNV|B00RL014P2|       6980707|The Laundry Alter...|Major Appliances|          4|           83|         89|   N|                Y|Warning! Long Rev...|Where do I begin?...| 2015-08-31|\n",
            "|         US|   13254956| R5XKK92G5N9FU|B00EM2JPLW|     824392206|Samsung NE58F9500...|Major Appliances|          1|           18|         22|   N|                N|FIRE HAZARD - AVO...|FIRE HAZARD - AVO...| 2015-08-30|\n",
            "|         US|   50791387| RYMOWYW38WKOB|B00UI18U08|     846535709|LG LMXC23746S 23 ...|Major Appliances|          5|           35|         35|   N|                N|pleasant surprise...|Bought this fridg...| 2015-08-30|\n",
            "|         US|   48688660| RYHZAVESD0T37|B00IY7B5CS|     874236579|Avalon Bay Portab...|Major Appliances|          1|           39|         45|   N|                Y|             Wet ice|I really wanted t...| 2015-08-29|\n",
            "|         US|   47079055|R19Y5VBOF3BQOG|B010CE497I|     607780698|Haier HC27SW20RV ...|Major Appliances|          1|           26|         35|   N|                Y|        Product swap|It just arrived a...| 2015-08-29|\n",
            "|         US|   42769135| R8V9F3139Z1WZ|B00OI05EKE|     381662962|GE GSE25HMHES 36\"...|Major Appliances|          1|           30|         34|   N|                N|SHAME ON GE, low ...|STAY AWAY from GE...| 2015-08-29|\n",
            "|         US|   51579138|R3RNY5OLY451GS|B00LIAP2ZY|     545041103|LG WM3997HWA Vent...|Major Appliances|          1|           25|         30|   N|                Y|Drying did not work.|I really wanted t...| 2015-08-28|\n",
            "|         US|   13663272|R16LPVYSJOAH1T|B00MHY0B9C|     144125671|DMAFRIGFGID2466QF...|Major Appliances|          1|           20|         20|   N|                N|Broke in the firs...|This appliance is...| 2015-08-27|\n",
            "|         US|   25345755|R2NLL7ISMM5QYQ|B00E8KC36M|     754165796|Kitchen Bath Coll...|Major Appliances|          4|           89|         94|   N|                Y|  We love it, but...|When it arrived, ...| 2015-08-27|\n",
            "|         US|   52082261|R3FAFI6Q0YL37W|B00KJ07SEM|     313983847|GE MWF SmartWater...|Major Appliances|          1|           30|         35|   N|                Y|BEWARE! Gross yel...|Watch out! I just...| 2015-08-26|\n",
            "|         US|   12120105|R1A4JVOP7N5Q1K|B00XYVEA2Q|     926385357|ARKSEN Portable M...|Major Appliances|          5|           28|         30|   N|                Y|I FELT LIKE A SUC...|I read the negati...| 2015-08-25|\n",
            "|         US|   19227587|R30E25MXKEP9BP|B00D1SZNO6|     315917522|Avanti RA7316PST ...|Major Appliances|          4|           36|         37|   N|                Y|Avanti is good pa...|Arrived really we...| 2015-08-23|\n",
            "|         US|   40023988|R2FMLYX388LR2Y|B0057WCGJ4|     745613395|Bosch 800 Series ...|Major Appliances|          5|           28|         33|   N|                Y|Bosch 800 Series ...|Just got this dis...| 2015-08-22|\n",
            "|         US|   11324103| R1EGFDXPYGROC|B00J8A9S4C|     772573004|Bosch NGM8655UC 8...|Major Appliances|          5|           28|         32|   N|                Y|       Great Cooktop|We bought this to...| 2015-08-22|\n",
            "|         US|   10295660|R2DCZYJZRF0V2O|B00OLUTYKC|     668408812|Wine Enthusiast 2...|Major Appliances|          5|           26|         28|   N|                Y|Handsome and Very...|Handsome, super q...| 2015-08-22|\n",
            "|         US|   36744226|R3QNOR0K43XLWB|B002UYSHMM|     429051224|Haier HLP21N Puls...|Major Appliances|          5|           41|         41|   N|                N|Great Washer for ...|This is great, qu...| 2015-08-21|\n",
            "|         US|   48114567| RPNUNJJZLD11P|B00GXH8QDW|     114997886|LG H/E Ultra Larg...|Major Appliances|          1|           26|         27|   N|                N|It is too soon to...|I purchased this ...| 2015-08-21|\n",
            "|         US|   19603551|R39VRWWZWAHBPH|B010CE497I|     607780698|Haier HC27SW20RV ...|Major Appliances|          1|           15|         21|   N|                Y|            One Star|Very disappointed...| 2015-08-21|\n",
            "|         US|     877297| RU7XNN9EC8V8X|B00N1XAVDY|     845333501|NewAir CC-100 250...|Major Appliances|          1|           31|         36|   N|                Y|Really bad produc...|Simply the worst ...| 2015-08-21|\n",
            "|         US|    7008877|R2ZU7AC8QSDUOB|B00KVRA6YW|     678523534|SPT RF-314SS Doub...|Major Appliances|          4|           41|         44|   N|                Y| Buy extra ice trays|Bought this mini ...| 2015-08-20|\n",
            "+-----------+-----------+--------------+----------+--------------+--------------------+----------------+-----------+-------------+-----------+----+-----------------+--------------------+--------------------+-----------+\n",
            "only showing top 20 rows\n",
            "\n"
          ]
        }
      ]
    },
    {
      "cell_type": "code",
      "source": [
        "# Create Vine paid DataFrame\n",
        "vine_paid_df = helpful_votes_df.filter(helpful_votes_df.vine == 'Y')\n",
        "vine_paid_df.show()"
      ],
      "metadata": {
        "colab": {
          "base_uri": "https://localhost:8080/"
        },
        "id": "c8KnHpKs3Mp1",
        "outputId": "1a27b133-2064-44e7-cdcc-7fbe2bacbb39"
      },
      "execution_count": 6,
      "outputs": [
        {
          "output_type": "stream",
          "name": "stdout",
          "text": [
            "+-----------+-----------+--------------+----------+--------------+--------------------+----------------+-----------+-------------+-----------+----+-----------------+--------------------+--------------------+-----------+\n",
            "|marketplace|customer_id|     review_id|product_id|product_parent|       product_title|product_category|star_rating|helpful_votes|total_votes|vine|verified_purchase|     review_headline|         review_body|review_date|\n",
            "+-----------+-----------+--------------+----------+--------------+--------------------+----------------+-----------+-------------+-----------+----+-----------------+--------------------+--------------------+-----------+\n",
            "|         US|   31302915|R20O97P5V9CZ21|B00P7QI4IM|     901651668|Whynter BR-130SB ...|Major Appliances|          3|           21|         27|   Y|                N|Nice but had some...|I was very excite...| 2015-06-07|\n",
            "|         US|   38320678| RCNB7YGLWKCV5|B00NQFSSWS|     692404913|Samsung Counter T...|Major Appliances|          5|           23|         30|   Y|                N|You wouldn't micr...|I never would hav...| 2015-02-02|\n",
            "|         US|   53035876| RX1ZUVGBH3HKC|B00NQFSSWS|     692404913|Samsung Counter T...|Major Appliances|          5|          814|        848|   Y|                N|THE WORLD'S MOST ...|I've written quit...| 2015-01-19|\n",
            "|         US|   52682179| RRS5AGL10DYU3|B00NN136NQ|     464779766|Samsung MC11H6033...|Major Appliances|          3|           25|         29|   Y|                N|Not bad, but fell...|I have mixed feel...| 2015-01-14|\n",
            "|         US|   47914576| R5YFC5G8V2B3I|B00NQFSSWS|     692404913|Samsung Counter T...|Major Appliances|          5|          104|        117|   Y|                N|This Combination ...|Is a combination ...| 2015-01-12|\n",
            "|         US|   52862683|R1IDQ0G1S7J9TN|B00NQFSSWS|     692404913|Samsung Counter T...|Major Appliances|          5|          178|        196|   Y|                N|Awesome grill + m...|[[VIDEOID:26e2998...| 2015-01-11|\n",
            "|         US|   51401810| RKXNZX22HQZEE|B00NN136NQ|     464779766|Samsung MC11H6033...|Major Appliances|          3|          182|        192|   Y|                N|Takes your chef s...|I’m always leery ...| 2015-01-08|\n",
            "|         US|   39699233|R2K45IY0NO70ZI|B00NN136NQ|     464779766|Samsung MC11H6033...|Major Appliances|          5|          116|        122|   Y|                N|Awesome Convectio...|Before this micro...| 2015-01-01|\n",
            "|         US|   47233680| RQXRI4UKDX877|B00M7GMEYK|     350114849|             Whynter|Major Appliances|          5|           20|         24|   Y|                N|Great small freez...|This is a perfect...| 2014-10-24|\n",
            "|         US|   51302590|R1L2R8OHO171YG|B00M7GMEYK|     350114849|             Whynter|Major Appliances|          5|           66|         68|   Y|                N|Lots of things to...|Like all things, ...| 2014-10-10|\n",
            "|         US|   51286530|R15NQCQUNOSI4U|B00EWDALK0|      52868775|Whynter MRF-310DB...|Major Appliances|          4|           19|         22|   Y|                N|Cool Space-saving...|This is a wonderf...| 2013-11-25|\n",
            "|         US|   33107350|R37J6VNSC5TZVS|B005XAM44W|     920442298|NewAir AWC-270E 2...|Major Appliances|          4|           19|         22|   Y|                N|5-star aesthetics...|[[VIDEOID:mo1PZ46...| 2013-11-18|\n",
            "|         US|   28566325|R3F1V21FOEIEKN|B00CQ1O3NG|     601997392|Whynter 20 Bottle...|Major Appliances|          4|           30|         33|   Y|                N|A little loud, bu...|I've been using m...| 2013-10-30|\n",
            "|         US|   28566325|R2SQ2O06PRCM9D|B00EWDALK0|      52868775|Whynter MRF-310DB...|Major Appliances|          5|           28|         31|   Y|                N|A super little wo...|I admit it, I tho...| 2013-10-30|\n",
            "|         US|   52896178| RX7QEPPDUZLO7|B00CQ1O3NG|     601997392|Whynter 20 Bottle...|Major Appliances|          4|           18|         20|   Y|                N|Cool and compact ...|A wine refrigerat...| 2013-10-26|\n",
            "|         US|   52801489|R1B3OGO36CJKDA|B005XAM44W|     920442298|NewAir AWC-270E 2...|Major Appliances|          5|           15|         20|   Y|                Y|Works Well and Lo...|This NewAir wine ...| 2013-10-02|\n",
            "|         US|   43335941|R2SIOD5SIH2LJN|B001DI4UYA|     455062034|NewAir AW-210ED S...|Major Appliances|          4|           25|         31|   Y|                N|Sleek, convenient...|I realize other c...| 2013-08-15|\n",
            "|         US|   50699505| R9J3GG1IL1KWC|B008RL4OCY|     726642495|NewAir AI-215SS P...|Major Appliances|          5|          158|        164|   Y|                N|This is a perfect...|I absolutely love...| 2013-06-28|\n",
            "|         US|   52760989| RPGPLUGTQP80H|B007P4WD4A|     322676334|Amana 6.5 cu. ft....|Major Appliances|          4|           17|         20|   Y|                N|A Fast Working, E...|Drying clothes is...| 2012-06-05|\n",
            "|         US|   33107350|R2ACH3HF5VUWGD|B00702RU5E|     987465727|Amana Tall Tub Di...|Major Appliances|          4|           76|         78|   Y|                N|Definitely worth ...|To help put my re...| 2012-05-26|\n",
            "+-----------+-----------+--------------+----------+--------------+--------------------+----------------+-----------+-------------+-----------+----+-----------------+--------------------+--------------------+-----------+\n",
            "only showing top 20 rows\n",
            "\n"
          ]
        }
      ]
    },
    {
      "cell_type": "code",
      "source": [
        "# Create Vine unpaid DataFrame\n",
        "vine_unpaid_df = helpful_votes_df.filter(helpful_votes_df.vine == 'N')\n",
        "vine_unpaid_df.show()"
      ],
      "metadata": {
        "colab": {
          "base_uri": "https://localhost:8080/"
        },
        "id": "Y5TJDjg03oFK",
        "outputId": "ce3d94cd-d4e7-47bd-90bd-9b2b91f36df1"
      },
      "execution_count": 7,
      "outputs": [
        {
          "output_type": "stream",
          "name": "stdout",
          "text": [
            "+-----------+-----------+--------------+----------+--------------+--------------------+----------------+-----------+-------------+-----------+----+-----------------+--------------------+--------------------+-----------+\n",
            "|marketplace|customer_id|     review_id|product_id|product_parent|       product_title|product_category|star_rating|helpful_votes|total_votes|vine|verified_purchase|     review_headline|         review_body|review_date|\n",
            "+-----------+-----------+--------------+----------+--------------+--------------------+----------------+-----------+-------------+-----------+----+-----------------+--------------------+--------------------+-----------+\n",
            "|         US|   36792525|R3BC75VKJK6LNV|B00RL014P2|       6980707|The Laundry Alter...|Major Appliances|          4|           83|         89|   N|                Y|Warning! Long Rev...|Where do I begin?...| 2015-08-31|\n",
            "|         US|   13254956| R5XKK92G5N9FU|B00EM2JPLW|     824392206|Samsung NE58F9500...|Major Appliances|          1|           18|         22|   N|                N|FIRE HAZARD - AVO...|FIRE HAZARD - AVO...| 2015-08-30|\n",
            "|         US|   50791387| RYMOWYW38WKOB|B00UI18U08|     846535709|LG LMXC23746S 23 ...|Major Appliances|          5|           35|         35|   N|                N|pleasant surprise...|Bought this fridg...| 2015-08-30|\n",
            "|         US|   48688660| RYHZAVESD0T37|B00IY7B5CS|     874236579|Avalon Bay Portab...|Major Appliances|          1|           39|         45|   N|                Y|             Wet ice|I really wanted t...| 2015-08-29|\n",
            "|         US|   47079055|R19Y5VBOF3BQOG|B010CE497I|     607780698|Haier HC27SW20RV ...|Major Appliances|          1|           26|         35|   N|                Y|        Product swap|It just arrived a...| 2015-08-29|\n",
            "|         US|   42769135| R8V9F3139Z1WZ|B00OI05EKE|     381662962|GE GSE25HMHES 36\"...|Major Appliances|          1|           30|         34|   N|                N|SHAME ON GE, low ...|STAY AWAY from GE...| 2015-08-29|\n",
            "|         US|   51579138|R3RNY5OLY451GS|B00LIAP2ZY|     545041103|LG WM3997HWA Vent...|Major Appliances|          1|           25|         30|   N|                Y|Drying did not work.|I really wanted t...| 2015-08-28|\n",
            "|         US|   13663272|R16LPVYSJOAH1T|B00MHY0B9C|     144125671|DMAFRIGFGID2466QF...|Major Appliances|          1|           20|         20|   N|                N|Broke in the firs...|This appliance is...| 2015-08-27|\n",
            "|         US|   25345755|R2NLL7ISMM5QYQ|B00E8KC36M|     754165796|Kitchen Bath Coll...|Major Appliances|          4|           89|         94|   N|                Y|  We love it, but...|When it arrived, ...| 2015-08-27|\n",
            "|         US|   52082261|R3FAFI6Q0YL37W|B00KJ07SEM|     313983847|GE MWF SmartWater...|Major Appliances|          1|           30|         35|   N|                Y|BEWARE! Gross yel...|Watch out! I just...| 2015-08-26|\n",
            "|         US|   12120105|R1A4JVOP7N5Q1K|B00XYVEA2Q|     926385357|ARKSEN Portable M...|Major Appliances|          5|           28|         30|   N|                Y|I FELT LIKE A SUC...|I read the negati...| 2015-08-25|\n",
            "|         US|   19227587|R30E25MXKEP9BP|B00D1SZNO6|     315917522|Avanti RA7316PST ...|Major Appliances|          4|           36|         37|   N|                Y|Avanti is good pa...|Arrived really we...| 2015-08-23|\n",
            "|         US|   40023988|R2FMLYX388LR2Y|B0057WCGJ4|     745613395|Bosch 800 Series ...|Major Appliances|          5|           28|         33|   N|                Y|Bosch 800 Series ...|Just got this dis...| 2015-08-22|\n",
            "|         US|   11324103| R1EGFDXPYGROC|B00J8A9S4C|     772573004|Bosch NGM8655UC 8...|Major Appliances|          5|           28|         32|   N|                Y|       Great Cooktop|We bought this to...| 2015-08-22|\n",
            "|         US|   10295660|R2DCZYJZRF0V2O|B00OLUTYKC|     668408812|Wine Enthusiast 2...|Major Appliances|          5|           26|         28|   N|                Y|Handsome and Very...|Handsome, super q...| 2015-08-22|\n",
            "|         US|   36744226|R3QNOR0K43XLWB|B002UYSHMM|     429051224|Haier HLP21N Puls...|Major Appliances|          5|           41|         41|   N|                N|Great Washer for ...|This is great, qu...| 2015-08-21|\n",
            "|         US|   48114567| RPNUNJJZLD11P|B00GXH8QDW|     114997886|LG H/E Ultra Larg...|Major Appliances|          1|           26|         27|   N|                N|It is too soon to...|I purchased this ...| 2015-08-21|\n",
            "|         US|   19603551|R39VRWWZWAHBPH|B010CE497I|     607780698|Haier HC27SW20RV ...|Major Appliances|          1|           15|         21|   N|                Y|            One Star|Very disappointed...| 2015-08-21|\n",
            "|         US|     877297| RU7XNN9EC8V8X|B00N1XAVDY|     845333501|NewAir CC-100 250...|Major Appliances|          1|           31|         36|   N|                Y|Really bad produc...|Simply the worst ...| 2015-08-21|\n",
            "|         US|    7008877|R2ZU7AC8QSDUOB|B00KVRA6YW|     678523534|SPT RF-314SS Doub...|Major Appliances|          4|           41|         44|   N|                Y| Buy extra ice trays|Bought this mini ...| 2015-08-20|\n",
            "+-----------+-----------+--------------+----------+--------------+--------------------+----------------+-----------+-------------+-----------+----+-----------------+--------------------+--------------------+-----------+\n",
            "only showing top 20 rows\n",
            "\n"
          ]
        }
      ]
    },
    {
      "cell_type": "code",
      "source": [
        "# total paid reviews\n",
        "total_paid_reviews = vine_paid_df.count()\n",
        "total_paid_reviews"
      ],
      "metadata": {
        "colab": {
          "base_uri": "https://localhost:8080/"
        },
        "id": "OwPyydov4Cs3",
        "outputId": "4919a52b-b1d0-41cb-887e-f52faa014a49"
      },
      "execution_count": 8,
      "outputs": [
        {
          "output_type": "execute_result",
          "data": {
            "text/plain": [
              "35"
            ]
          },
          "metadata": {},
          "execution_count": 8
        }
      ]
    },
    {
      "cell_type": "code",
      "source": [
        "# total paid 5-star reviews\n",
        "paid_five_star_reviews = vine_paid_df.filter(vine_paid_df.star_rating == 5).count()\n",
        "paid_five_star_reviews"
      ],
      "metadata": {
        "colab": {
          "base_uri": "https://localhost:8080/"
        },
        "id": "rA0owRdQ4LE8",
        "outputId": "b545dc4b-8557-430b-add7-304ab3dddf10"
      },
      "execution_count": 9,
      "outputs": [
        {
          "output_type": "execute_result",
          "data": {
            "text/plain": [
              "18"
            ]
          },
          "metadata": {},
          "execution_count": 9
        }
      ]
    },
    {
      "cell_type": "code",
      "source": [
        "# paid percentage\n",
        "paid_five_star_percent = (paid_five_star_reviews / total_paid_reviews) * 100\n",
        "paid_five_star_percent"
      ],
      "metadata": {
        "colab": {
          "base_uri": "https://localhost:8080/"
        },
        "id": "eAdLNKoT4K6O",
        "outputId": "17d08115-6baf-4579-8aef-349d03c29144"
      },
      "execution_count": 10,
      "outputs": [
        {
          "output_type": "execute_result",
          "data": {
            "text/plain": [
              "51.42857142857142"
            ]
          },
          "metadata": {},
          "execution_count": 10
        }
      ]
    },
    {
      "cell_type": "code",
      "source": [
        "# total unpaid reviews\n",
        "total_unpaid_reviews = vine_unpaid_df.count()\n",
        "total_unpaid_reviews"
      ],
      "metadata": {
        "colab": {
          "base_uri": "https://localhost:8080/"
        },
        "id": "1a7qoXBL4Kq_",
        "outputId": "cba92d29-e512-448b-f979-1baf142179a7"
      },
      "execution_count": 11,
      "outputs": [
        {
          "output_type": "execute_result",
          "data": {
            "text/plain": [
              "4957"
            ]
          },
          "metadata": {},
          "execution_count": 11
        }
      ]
    },
    {
      "cell_type": "code",
      "source": [
        "# total unpaid 5-star reviews\n",
        "unpaid_five_star_reviews = vine_unpaid_df.filter(vine_unpaid_df.star_rating == 5).count()\n",
        "unpaid_five_star_reviews"
      ],
      "metadata": {
        "colab": {
          "base_uri": "https://localhost:8080/"
        },
        "id": "QXtMh3I44k-w",
        "outputId": "1e5ee8fa-af6b-46c7-91ff-3a19cf4adfc5"
      },
      "execution_count": 12,
      "outputs": [
        {
          "output_type": "execute_result",
          "data": {
            "text/plain": [
              "1963"
            ]
          },
          "metadata": {},
          "execution_count": 12
        }
      ]
    },
    {
      "cell_type": "code",
      "source": [
        "# unpaid percentage\n",
        "unpaid_five_star_percent = (unpaid_five_star_reviews / total_unpaid_reviews) * 100\n",
        "unpaid_five_star_percent"
      ],
      "metadata": {
        "colab": {
          "base_uri": "https://localhost:8080/"
        },
        "id": "_C-T9S4g4n21",
        "outputId": "239c199e-a553-4a36-d722-6c9d10bc290c"
      },
      "execution_count": 13,
      "outputs": [
        {
          "output_type": "execute_result",
          "data": {
            "text/plain": [
              "39.60056485777688"
            ]
          },
          "metadata": {},
          "execution_count": 13
        }
      ]
    },
    {
      "cell_type": "code",
      "source": [
        "# double check using pyspark\n",
        "from pyspark.sql.functions import col,when,count,lit\n",
        "ratings_total_df = helpful_votes_df.groupBy(\"Vine\").agg(\n",
        "    count(col(\"vine\")).alias(\"Total_Reviews\"),\n",
        "    count(when(col(\"star_rating\") == 5, True)).alias(\"Total_5_Star_Reviews\"),\n",
        "    (count(when(col(\"star_rating\") == 5, True))/count(col(\"vine\"))*100).alias(\"Percentage_Total\")).show()"
      ],
      "metadata": {
        "colab": {
          "base_uri": "https://localhost:8080/"
        },
        "id": "Waxpwoy950yM",
        "outputId": "437a30aa-14fa-4108-8ee5-abc677fbefe2"
      },
      "execution_count": 14,
      "outputs": [
        {
          "output_type": "stream",
          "name": "stdout",
          "text": [
            "+----+-------------+--------------------+-----------------+\n",
            "|Vine|Total_Reviews|Total_5_Star_Reviews| Percentage_Total|\n",
            "+----+-------------+--------------------+-----------------+\n",
            "|   Y|           35|                  18|51.42857142857142|\n",
            "|   N|         4957|                1963|39.60056485777688|\n",
            "+----+-------------+--------------------+-----------------+\n",
            "\n"
          ]
        }
      ]
    }
  ]
}